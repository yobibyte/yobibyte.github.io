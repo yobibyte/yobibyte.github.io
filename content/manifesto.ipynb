{
 "cells": [
  {
   "cell_type": "markdown",
   "metadata": {},
   "source": [
    "The amount of information we percieve every day is enormous. We get up in the\n",
    "morning and start scrolling facebook, checking the mailbox, tweeting about the\n",
    "acne on our buttock or about the information overload. We open youtube and \n",
    "start watching something unimportant while we brush our teeth. \n",
    "\n",
    "The rest of the day looks exactly the same. We read mass media that is full of \n",
    "news like 'A nude woman stole food from her neighbour's dog', 'A 4-year old boy \n",
    "ate his grandfathers' socks'. This is how mass media rolls. This is how they \n",
    "attract new readers. This is the kind of information we want to show our friends.\n",
    "\n",
    "Yeah, I forgot to mention, each time we see something funny, stupid or \n",
    "\"interesting\", we press 'share' button and make our friends look at that shit. \n",
    "And we laugh at how stupid people are on these videos, pictures, memes or other \n",
    "stuff. We are proud to be smarter than heroes of our shared material. The \n",
    "stupidity of the world makes us feel sad.\n",
    "\n",
    "But wait? Don't we take part in making the world dumber? Don't we make our\n",
    "friends lose time instead of doing something great? Won't it be better to make\n",
    "ourselves smarter than just make fun of others' stupidity? Oh, boy! We make the\n",
    "situation worse. That is the reason why I write this manifesto. That is what I\n",
    "want you to do next time when you press the 'share' button: think if it is \n",
    "another piece of shit or not. Please, do not take part in the shit \n",
    "proliferation.\n",
    "\n",
    "And this is our <b>manifesto</b>:\n",
    "- [Information is power](https://archive.org/stream/GuerillaOpenAccessManifesto/Goamjuly2008_djvu.txt). \n",
    "  But not all the information as well as power makes us stronger.\n",
    "- We do not want to spend the whole life reading shit, watching shit and\n",
    "  listening to shit.\n",
    "- We do not want our friends to do that either. And moreover We do not want them\n",
    "  to make me do that.\n",
    "- We want make this world smarter\n",
    "- Thus, since now, every time we want to share something with our friends, we \n",
    "  think if they really need this.\n",
    "\n",
    "<p align='center'>Will you join us?</p>\n"
   ]
  }
 ],
 "metadata": {
  "kernelspec": {
   "display_name": "Python 3",
   "language": "python",
   "name": "python3"
  },
  "language_info": {
   "codemirror_mode": {
    "name": "ipython",
    "version": 3
   },
   "file_extension": ".py",
   "mimetype": "text/x-python",
   "name": "python",
   "nbconvert_exporter": "python",
   "pygments_lexer": "ipython3",
   "version": "3.5.2"
  }
 },
 "nbformat": 4,
 "nbformat_minor": 2
}
