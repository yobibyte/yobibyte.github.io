{
 "cells": [
  {
   "cell_type": "markdown",
   "metadata": {},
   "source": [
    "<img class='center' src=\"https://yobibyte.github.io/pics/chess.jpg\"/>"
   ]
  },
  {
   "cell_type": "markdown",
   "metadata": {},
   "source": [
    "**Disclaimer**: This article is to share my experience and give some ideas on lea sure time in our difficult times. It is not about how to teach your kid to beat Magnus Carlsen in 21 days or turn your child into a chess computer. Use at your own risk!\n",
    "\n",
    "I learnt how to play chess from my grandfather, maybe around six (typical Russian amusement, you know). It took me a couple of years to beat him, and a couple of more years to checkmate my uncle. The peak of my chess career was a school chess competition, where a guy from one form above tricked me, and I lost. He asked me if he can play white first, and I agreed. I played white better, and I failed. When I lost, I found out that in that tournament you got kicked if you lose a game. My chess career was over.\n",
    "\n",
    "We have a chessboard at home. Occasionally I have been trying to get my son (5.5yo) interested in chess. But he has never shown any particular interest. A couple of weeks ago, he came to me and asked if I could teach him how to play. I think he is super bored because due to COVID his school is closed and my abilities to recreate him are much lower comparing to his teachers and friends.\n",
    "\n",
    "It's been three weeks now, and we've gone through a whole chess book already. Yesterday, we've just got a new one. Yuri (that's my son's name) can now beat his grandmother, mother and yesterday, when I did not take it seriously, he checkmated me. He can beat level 5 computer on chess.com (ranking ~850) and is always asking to play more. How did we get there?\n",
    "\n",
    "I think the main reason for such fast progress is that I did not make him do anything, I wanted him to get a desire to learn, understand the game better and have fun.\n",
    "\n",
    "We started with learning how to put pieces on the board. This did not take long, because there are helpful symmetry and a heuristic that the queen always likes its own colour.\n",
    "\n",
    "The next step was also quite easy for both of us. We learnt how to move pieces and how to capture the others. There were two main obstacles along the way: pawns and knights. The pawns are tricky and can move two squares at the beginning, and they capture not the same way they move. But we overcame these issues within a couple of days trying to solve some puzzles I came up with to practice what we've just learnt: e.g. put 8 pawns on the board and try to eat all of them with a knight.\n",
    "\n",
    "At this point, I did not give any long lectures on what the game is, what the goal is. I did not teach my son how to castle, what a stalemate is or how to get a pawn 'en passant'. I did not even tell him about checkmate, I just said that in a game, you need to eat the king. That was convincing enough, and we did not spend too much time there.\n",
    "\n",
    "At this point, he could already play a full game, and we did that a couple of times until Yuri realised that he could not beat me. He lost any interest in the game. I told him my story that it took me several years to beat my granddad and my uncle. Also, I told him about Magnus, who started to play chess around his age and also trained for a couple of years before he could beat his own father. Surprisingly this worked out smoothly and we continued our exercises.\n",
    "\n",
    "At that point, he could play with chess.com computer already. The first couple of levels are utterly dumb, and they cannot do anything. So, Yuri was quickly eating all of the pieces without losing his own. This was a good way to practice moves and captures. \n",
    "\n",
    "It was a good point to explain what checkmate is and how to do simple checkmates with two rooks or with a rook and a queen. After a week or so, he finally mastered a checkmate with two queens, and this is his favourite one. Another positive use case of chess.com is that he plays and later we go through a game together with me explaining why this or that move is good or bad.\n",
    "\n",
    "There were some technicalities left, one of which is a stalemate. This became a problem when Yuri started to eat all the pieces of the opponent and then to end up with some craziness, e.g. five queens. He suddenly realised that there is some pesky draw no one has told you about before. The explanation went pretty smoothly, but noticing stalemates is still an issue even now. \n",
    "Castling was another success. One of the ways I taught him was playing myself on chess.com and commenting on why I chose this or that move. And when he noticed my castling, he got super excited asking what kind of sorcery that was. One more problem is less. \n",
    "\n",
    "I try to make exercises fun and make up some stories about particular puzzles. I wanted to wake in him a desire to get to the answer. I do not insist when he could not solve the puzzle. We just leave it. I try to come up with an interesting puzzle at night and put the board at a visible place so that he gets interested in the morning. Sometimes it works, sometimes it does not.\n",
    "\n",
    "[Chess for children](https://www.amazon.co.uk/Chess-Children-Murray-Chandler/dp/1904600069 ) is an amazing book I can recommend. It helped me a lot. We've just got another one from this author: [Chess puzzles for kids](https://www.amazon.co.uk/Chess-Puzzles-Kids-Murray-Chandler-ebook/dp/B00AT0B6ZY). I got both of the references from [this page](https://www.nscfchess.org/parents-and-teachers/recommended-books).\n",
    "\n",
    "I think the whole experience has been useful and fun for both of us:\n",
    "* I learnt something about how to teach and make it entertaining rather than torturing: mostly, I tried to get him curious and interested rather than turning him into a chess computer. \n",
    "* We do not encourage any screen time. However, chess.com on iPad is a good alternative to Peppa the Pig.\n",
    "* Chess taught my son how to lose and keep going. This has been an issue, and it is hard for him to lose. But for some reason, losing in chess makes him curious about where he made a mistake. \n",
    "* There is some competitiveness in him now. Yuri is waiting for COVID to be over so that he can go to a tournament and see how he does against other kids. \n",
    "* The last positive thing about all of the above is that I started to play on my own again. And you know what? I love it! \n"
   ]
  },
  {
   "cell_type": "markdown",
   "metadata": {},
   "source": [
    "Of course, how can you have a chess blog post without a chess puzzle? Try to solve the puzzle from the beginning of the blog post. White to move."
   ]
  }
 ],
 "metadata": {
  "kernelspec": {
   "display_name": "Python 3",
   "language": "python",
   "name": "python3"
  },
  "language_info": {
   "codemirror_mode": {
    "name": "ipython",
    "version": 3
   },
   "file_extension": ".py",
   "mimetype": "text/x-python",
   "name": "python",
   "nbconvert_exporter": "python",
   "pygments_lexer": "ipython3",
   "version": "3.6.8"
  }
 },
 "nbformat": 4,
 "nbformat_minor": 2
}
